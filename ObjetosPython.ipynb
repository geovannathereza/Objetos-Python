{
  "nbformat": 4,
  "nbformat_minor": 0,
  "metadata": {
    "colab": {
      "provenance": [],
      "authorship_tag": "ABX9TyM6Er8J7R2sW4rVX/aonrVl",
      "include_colab_link": true
    },
    "kernelspec": {
      "name": "python3",
      "display_name": "Python 3"
    },
    "language_info": {
      "name": "python"
    }
  },
  "cells": [
    {
      "cell_type": "markdown",
      "metadata": {
        "id": "view-in-github",
        "colab_type": "text"
      },
      "source": [
        "<a href=\"https://colab.research.google.com/github/geovannathereza/Objetos-Python/blob/main/ObjetosPython.ipynb\" target=\"_parent\"><img src=\"https://colab.research.google.com/assets/colab-badge.svg\" alt=\"Open In Colab\"/></a>"
      ]
    },
    {
      "cell_type": "markdown",
      "source": [
        "# UNINASSAU\n",
        "# DOCENTE: Cloves Rocha\n",
        "# ESTUDANTE: Geovanna Thereza Tavares da Silva\n",
        "# MATRÍCULA: 01523550"
      ],
      "metadata": {
        "id": "DjpQQYSQTWnV"
      }
    },
    {
      "cell_type": "markdown",
      "source": [
        "Objeto 1: Objeto para contar a pontuação do Quiz"
      ],
      "metadata": {
        "id": "hFboFwmTWTH1"
      }
    },
    {
      "cell_type": "code",
      "execution_count": null,
      "metadata": {
        "id": "E48dS44yTT08"
      },
      "outputs": [],
      "source": [
        "class QuizPontuacao:\n",
        "\n",
        "    def __init__(self):\n",
        "        self.pontuacao = 0\n",
        "\n",
        "    def adicionar_ponto(self, pontos=1):\n",
        "        self.pontuacao += pontos\n",
        "\n",
        "    def subtrair_ponto(self, pontos=1):\n",
        "        self.pontuacao -= pontos\n",
        "\n",
        "    def obter_pontuacao(self):\n",
        "        return self.pontuacao\n",
        "\n",
        "    def reiniciar_pontuacao(self):\n",
        "        self.pontuacao = 0\n"
      ]
    },
    {
      "cell_type": "markdown",
      "source": [
        "Objeto 2: Objeto para as perguntas e respostas"
      ],
      "metadata": {
        "id": "MVGm8tCHXzKm"
      }
    },
    {
      "cell_type": "code",
      "source": [
        "class Pergunta:\n",
        "    def __init__(self, pergunta, opcoes_resposta, resposta_correta):\n",
        "        self.pergunta = pergunta\n",
        "        self.opcoes_resposta = opcoes_resposta\n",
        "        self.resposta_correta = resposta_correta\n"
      ],
      "metadata": {
        "id": "pJHR3aKPXzgT"
      },
      "execution_count": null,
      "outputs": []
    },
    {
      "cell_type": "markdown",
      "source": [
        "Objeto 3: Objeto com informações do jogador"
      ],
      "metadata": {
        "id": "HoRrHKmIYyNW"
      }
    },
    {
      "cell_type": "code",
      "source": [
        "class Jogador:\n",
        "    def __init__(self, nome):\n",
        "        self.nome = nome\n",
        "        self.pontuacao = 0\n",
        "        self.respostas_corretas = 0\n",
        "        self.respostas_incorretas = 0\n"
      ],
      "metadata": {
        "id": "1nwRq2ErY_6k"
      },
      "execution_count": null,
      "outputs": []
    },
    {
      "cell_type": "markdown",
      "source": [
        "Objeto 4: Objeto do tempo para responder as perguntas"
      ],
      "metadata": {
        "id": "TWL8RknGZBpg"
      }
    },
    {
      "cell_type": "code",
      "source": [
        "import time\n",
        "\n",
        "class Temporizador:\n",
        "    def __init__(self, tempo_limite_segundos):\n",
        "        self.tempo_limite = tempo_limite_segundos\n",
        "        self.inicio = None\n",
        "\n",
        "    def iniciar(self):\n",
        "        self.inicio = time.time()\n",
        "\n",
        "    def tempo_restante(self):\n",
        "        tempo_decorrido = time.time() - self.inicio\n",
        "        return max(0, self.tempo_limite - tempo_decorrido)\n"
      ],
      "metadata": {
        "id": "-liL-JaJZQaO"
      },
      "execution_count": null,
      "outputs": []
    },
    {
      "cell_type": "markdown",
      "source": [
        "Objeto 5: Objeto para contar o progresso no quiz"
      ],
      "metadata": {
        "id": "y3DmZgbQZU4g"
      }
    },
    {
      "cell_type": "code",
      "source": [
        "class ProgressoQuiz:\n",
        "    def __init__(self, total_perguntas):\n",
        "        self.total_perguntas = total_perguntas\n",
        "        self.perguntas_respondidas = 0\n",
        "\n",
        "    def atualizar_progresso(self):\n",
        "        self.perguntas_respondidas += 1\n",
        "\n",
        "    def porcentagem_completo(self):\n",
        "        return (self.perguntas_respondidas / self.total_perguntas) * 100\n"
      ],
      "metadata": {
        "id": "7rpCG5prZe7w"
      },
      "execution_count": null,
      "outputs": []
    }
  ]
}